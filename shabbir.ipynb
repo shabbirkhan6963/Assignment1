{
 "cells": [
  {
   "cell_type": "code",
   "execution_count": 1,
   "id": "e8f9630b",
   "metadata": {},
   "outputs": [
    {
     "name": "stdout",
     "output_type": "stream",
     "text": [
      "enter number 2\n",
      "3\n"
     ]
    }
   ],
   "source": [
    "n = int(input(\"enter number \"))\n",
    "sum = 0\n",
    "for a in range(0,n+1):\n",
    "    sum += a\n",
    "print(sum)\n"
   ]
  },
  {
   "cell_type": "code",
   "execution_count": 12,
   "id": "6dc8e117",
   "metadata": {},
   "outputs": [
    {
     "name": "stdout",
     "output_type": "stream",
     "text": [
      "World Python\n"
     ]
    }
   ],
   "source": [
    "a = \"World Python\"\n",
    "print(a)"
   ]
  },
  {
   "cell_type": "code",
   "execution_count": 13,
   "id": "a2a07ebf",
   "metadata": {},
   "outputs": [
    {
     "name": "stdout",
     "output_type": "stream",
     "text": [
      "Abraham Lincoln once said, 'Whatever you are, be a good one.' \n"
     ]
    }
   ],
   "source": [
    "print(\"Abraham Lincoln once said, 'Whatever you are, be a good one.' \")\n"
   ]
  },
  {
   "cell_type": "code",
   "execution_count": 14,
   "id": "adda1ede",
   "metadata": {},
   "outputs": [
    {
     "name": "stdout",
     "output_type": "stream",
     "text": [
      "0.7853981633974483\n"
     ]
    }
   ],
   "source": [
    "import cmath\n",
    "r = 0.5\n",
    "area = cmath.pi * r * r\n",
    "print(area)"
   ]
  },
  {
   "cell_type": "code",
   "execution_count": 15,
   "id": "cc0224d1",
   "metadata": {},
   "outputs": [
    {
     "name": "stdout",
     "output_type": "stream",
     "text": [
      "Enter a character: fggg\n",
      "NOT vowel\n"
     ]
    }
   ],
   "source": [
    "list1 = ['a','e ','i','o','u','A','E','I','O','U']\n",
    "x = input(\"Enter a character: \")\n",
    "\n",
    "if x in list1:\n",
    "    print(\"Vowel\")\n",
    "else:\n",
    "    print(\"NOT vowel\")"
   ]
  },
  {
   "cell_type": "code",
   "execution_count": 16,
   "id": "b33764c8",
   "metadata": {},
   "outputs": [
    {
     "name": "stdout",
     "output_type": "stream",
     "text": [
      "Enter your weight in kgs: 90\n",
      "Enter your height in cm: 500\n",
      "3.6\n"
     ]
    }
   ],
   "source": [
    "weight = int(input(\"Enter your weight in kgs: \"))\n",
    "height = int(input(\"Enter your height in cm: \"))\n",
    "bmi = weight / (height/100)**2\n",
    "\n",
    "print(bmi)"
   ]
  },
  {
   "cell_type": "code",
   "execution_count": 17,
   "id": "af3732ea",
   "metadata": {
    "scrolled": true
   },
   "outputs": [
    {
     "name": "stdout",
     "output_type": "stream",
     "text": [
      "asim\n",
      "dua\n",
      "ibtehaj\n",
      "daniyal\n",
      "razeen\n",
      "arbash\n",
      "saram\n",
      "anus\n"
     ]
    }
   ],
   "source": [
    "names = [\"asim\", \"dua\",\"ibtehaj\", \"daniyal\", \"razeen\", \"arbash\", \"saram\", \"anus\"]\n",
    "for i in names:\n",
    "    print(i)"
   ]
  },
  {
   "cell_type": "code",
   "execution_count": 18,
   "id": "6da83627",
   "metadata": {},
   "outputs": [
    {
     "data": {
      "text/plain": [
       "['pizza', 'pasta', 'soup']"
      ]
     },
     "execution_count": 18,
     "metadata": {},
     "output_type": "execute_result"
    }
   ],
   "source": [
    "foods = [\"pizza\", \"pasta\", \"soup\", \"salad\", \"noodles\", 'biryani', 'chicken handi', 'chicken karahi', 'chicken tikka']\n",
    "\n",
    "foods[0:3]"
   ]
  },
  {
   "cell_type": "code",
   "execution_count": 19,
   "id": "05a5ea27",
   "metadata": {},
   "outputs": [
    {
     "name": "stdout",
     "output_type": "stream",
     "text": [
      "three middel dishes are:  ['salad', 'noodles', 'biryani']\n"
     ]
    }
   ],
   "source": [
    "print(\"three middel dishes are: \", foods[3:6])"
   ]
  },
  {
   "cell_type": "code",
   "execution_count": 20,
   "id": "eafee514",
   "metadata": {},
   "outputs": [
    {
     "name": "stdout",
     "output_type": "stream",
     "text": [
      "last three dishes are:  ['chicken handi', 'chicken karahi', 'chicken tikka']\n"
     ]
    }
   ],
   "source": [
    "print(\"last three dishes are: \", foods[-3:])\n"
   ]
  },
  {
   "cell_type": "code",
   "execution_count": 21,
   "id": "9247d69d",
   "metadata": {},
   "outputs": [
    {
     "data": {
      "text/plain": [
       "['salad', 'noodles', 'biryani']"
      ]
     },
     "execution_count": 21,
     "metadata": {},
     "output_type": "execute_result"
    }
   ],
   "source": [
    "foods[3:6]"
   ]
  },
  {
   "cell_type": "code",
   "execution_count": 22,
   "id": "e5dee5d9",
   "metadata": {},
   "outputs": [
    {
     "data": {
      "text/plain": [
       "['chicken handi', 'chicken karahi', 'chicken tikka']"
      ]
     },
     "execution_count": 22,
     "metadata": {},
     "output_type": "execute_result"
    }
   ],
   "source": [
    "foods[-3:]"
   ]
  },
  {
   "cell_type": "code",
   "execution_count": 23,
   "id": "53ef5ee8",
   "metadata": {},
   "outputs": [
    {
     "name": "stdout",
     "output_type": "stream",
     "text": [
      "asim is good in maths\n",
      "dua is good in maths\n",
      "ibtehaj is good in maths\n",
      "daniyal is good in maths\n",
      "razeen is good in maths\n",
      "arbash is good in maths\n",
      "saram is good in maths\n",
      "anus is good in maths\n"
     ]
    }
   ],
   "source": [
    "for i in names:\n",
    "    print(i , \"is good in maths\")\n",
    "    "
   ]
  },
  {
   "cell_type": "code",
   "execution_count": 25,
   "id": "80212ba8",
   "metadata": {},
   "outputs": [
    {
     "name": "stdout",
     "output_type": "stream",
     "text": [
      "asim is good in maths\n",
      "dua is good in maths\n",
      "ibtehaj is good in maths\n",
      "daniyal is good in maths\n",
      "razeen is good in maths\n",
      "arbash is good in maths\n",
      "saram is good in maths\n",
      "anus is good in maths\n"
     ]
    }
   ],
   "source": [
    "for i in names:\n",
    "    print(i , \"is good in maths\")"
   ]
  }
 ],
 "metadata": {
  "kernelspec": {
   "display_name": "Python 3 (ipykernel)",
   "language": "python",
   "name": "python3"
  },
  "language_info": {
   "codemirror_mode": {
    "name": "ipython",
    "version": 3
   },
   "file_extension": ".py",
   "mimetype": "text/x-python",
   "name": "python",
   "nbconvert_exporter": "python",
   "pygments_lexer": "ipython3",
   "version": "3.9.12"
  }
 },
 "nbformat": 4,
 "nbformat_minor": 5
}
